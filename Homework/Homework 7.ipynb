{
 "cells": [
  {
   "cell_type": "markdown",
   "metadata": {},
   "source": [
    "# Homework 7\n",
    "\n",
    "## Due date: March 12 at Noon"
   ]
  },
  {
   "cell_type": "markdown",
   "metadata": {},
   "source": [
    "## Question 1\n",
    "\n",
    "Consider the workbook *TermStructure.xlsm*. The worksheet *Discount Curve* contains market quotes as of February 19 2018 for 16 liquid instruments (cells D4:D19), namely the 3 Month Libor rate, 6 eurodollar futures for medium term maturities and adjusted for convexity, and 9 swap rates for longer maturities up to 10-year (see the Bloomberg screen below). The cash flow associated with each instrument is already reported in the cells H4:AJ19, which have been conveniently named **CashFlows**.\n",
    "\n",
    "- Write a piece of software that uses Moore-Penrose inverse to calibrate a smooth zero curve. For the smoothing B-spline, check this library: https://docs.scipy.org/doc/scipy/tutorial/interpolate/smoothing_splines.html. The keyword argument $s$ specifies the amount of smoothing to perform during the spline fit. You should start by setting this parameter to $0$. The maturities for each instrument are in the cell range named **Dates**. Finally, the current prices of each instrument is in the cell range named **Prices**. Report the calculated discount rates in the range named **SmoothedDiscountCurve**. \n",
    "- Plot raw yield rates from market quotes. What do you notice?\n",
    "- Now choose the parameter $s$ so that the yield curve is increasing and $s$ is as small as possible\n",
    "- Plot the smoothed yield curve on the same figure with the raw yield rates.\n",
    "- As a matter of fact, the longer maturities in the smoothed yield curve (above 20 year) as of February 18 2018 were below the 10-year rate. What is the economic meaning of this?"
   ]
  },
  {
   "cell_type": "markdown",
   "metadata": {},
   "source": [
    "## Question 2\n",
    "\n",
    "Now look at the worksheet *Volatility Smile*. The quotes (in terms of Black volatility) for caps is reported in cells D3:D12. Column F3:F12 shows the corresponding market price of the cap.\n",
    "- Define python arrays whose elements are given by the implied volatilities (range named **BlackVol**), the swap rates (**Swap_Rate**)\n",
    "- Construct functions that return:\n",
    "    - the cap price from its implied volatility \n",
    "    - the vega of a cap (i.e. the derivative of the price with respect to the implied volatility - this should be done analytically)\n",
    "    - the implied volatility of a cap from its price\n",
    "    - the Hull White price of a cap\n",
    "    - the mean square error for pricing caps with Hull White, where caps are all the caps for which a Black volatility quote is available. This function should have among its inputs the mean reversion and volatility parameters\n",
    "- Find the best volatility and mean reversion parameters such that the mean square error (cell L6) is minimized. You should do this using python's scipy.optimize library (see the documentation here: https://docs.scipy.org/doc/scipy/tutorial/optimize.html).\n",
    "- Plot the market implied vol and the Hull-White implied vol, and comment on how well HW can replicate the implied volatilty curve.\n",
    "- Write a code to report the parameters your found, the Hull-White implied vol, the Hull-White prices and the Market prices in the range of cells named **MeanReversionCalibration**, **VolatilityCalibration**, **HW_Implied_Vol**, **HW_Price** and **Mkt_Price**."
   ]
  }
 ],
 "metadata": {
  "kernelspec": {
   "display_name": "CFRM530",
   "language": "python",
   "name": "python3"
  },
  "language_info": {
   "codemirror_mode": {
    "name": "ipython",
    "version": 3
   },
   "file_extension": ".py",
   "mimetype": "text/x-python",
   "name": "python",
   "nbconvert_exporter": "python",
   "pygments_lexer": "ipython3",
   "version": "3.12.7"
  }
 },
 "nbformat": 4,
 "nbformat_minor": 2
}
