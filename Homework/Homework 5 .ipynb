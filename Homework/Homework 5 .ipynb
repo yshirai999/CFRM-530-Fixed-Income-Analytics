{
 "cells": [
  {
   "cell_type": "markdown",
   "metadata": {},
   "source": [
    "# Homework 5\n",
    "\n",
    "## Due date\n",
    "\n"
   ]
  },
  {
   "cell_type": "markdown",
   "metadata": {},
   "source": [
    "## Question 1\n",
    "\n",
    "Consider the workbook *TermStructure.xlsm*. The worksheet *Discount Curve* contains market quotes as of February 19 2018 for 16 liquid instruments (cells D4:D19), namely the 3 Month Libor rate, 6 eurodollar futures for medium term maturities and adjusted for convexity, and 9 swap rates for longer maturities up to 10-year (see the Bloomberg screen below). The cash flow associated with each instrument is already reported in the cells H4:AJ19, which have been conveniently named **CashFlows**.\n",
    "\n",
    "- Write a piece of software that uses Moore-Penrose inverse to calibrate a smooth zero curve. For the smoothing spline, check this library: https://docs.scipy.org/doc/scipy/tutorial/interpolate/smoothing_splines.html. The keyword argument $s$ specifies the amount of smoothing to perform during the spline fit. It should be set equal to the parameter in the cell named **SmoothedSplineParameter**, and you should start by setting this parameter to $0$. The maturities for each instrument are in the cell range named **Dates**. Finally, the current prices of each instrument is in the cell range named **Prices**. Report the calculated discount rates in the range named **SmoothedDiscountCurve**. \n",
    "- Plot raw yield rates from market quotes. What do you notice?\n",
    "- Now choose the parameter $s$ so that the yield curve is increasing and $s$ is as small as possible\n",
    "- Plot the smoothed yield curve on the same figure with the raw yield rates.\n",
    "- As a matter of fact, the longer maturities in the smoothed yield curve (above 20 year) as of February 18 2018 were below the 10-year rate. What is the economic meaning of this?"
   ]
  },
  {
   "cell_type": "markdown",
   "metadata": {},
   "source": [
    "## Question 2\n",
    "\n",
    "Now look at the worksheet *Volatility Smile*. The quotes (in terms of Black volatility) for caps is reported in cells D3:D12. Column F3:F12 shows the corresponding market price of the cap, while column G3:G12 reports the price of the cap based on the Hull-White model for Mean reversion and volatility as in cell L3 and L4 respectively.\n",
    "\n",
    "- Find the best volatility parameter such that the mean square error (cell L6) is minimized. You should do this using python's scipy.optimize library (see the documentation here: https://docs.scipy.org/doc/scipy/tutorial/optimize.html).\n",
    "- Plot the market implied vol and the Hull-White vol. Which part of the volatility curve is best fit by the Hull White model?\n",
    "\n",
    "As a matter of fact, your findings are quite usual. See section 3.14 and, in particular, Figure 3.16 on page 134 of **Interest Rate Models - Theory and Practice**, by Damiano Brigo and Fabio Mercurio."
   ]
  }
 ],
 "metadata": {
  "kernelspec": {
   "display_name": "CFRM530",
   "language": "python",
   "name": "python3"
  },
  "language_info": {
   "codemirror_mode": {
    "name": "ipython",
    "version": 3
   },
   "file_extension": ".py",
   "mimetype": "text/x-python",
   "name": "python",
   "nbconvert_exporter": "python",
   "pygments_lexer": "ipython3",
   "version": "3.12.7"
  }
 },
 "nbformat": 4,
 "nbformat_minor": 2
}
