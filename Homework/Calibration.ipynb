{
 "cells": [
  {
   "cell_type": "code",
   "execution_count": null,
   "metadata": {
    "vscode": {
     "languageId": "plaintext"
    }
   },
   "outputs": [],
   "source": [
    "from openpyxl import load_workbook\n",
    "from openpyxl.styles import Alignment\n",
    "\n",
    "import os\n",
    "QRM_path = os.path.dirname(os.getcwd()) \n",
    "file_path = QRM_path+'//H1//OptionsPivotTables.xlsm'\n",
    "\n",
    "wb = load_workbook(filename=file_path, read_only=False, keep_vba=True)\n",
    "\n",
    "ws = wb['OptionsData']  # or wb.active\n"
   ]
  }
 ],
 "metadata": {
  "language_info": {
   "name": "python"
  }
 },
 "nbformat": 4,
 "nbformat_minor": 2
}
